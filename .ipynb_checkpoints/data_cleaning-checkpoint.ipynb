{
 "cells": [
  {
   "cell_type": "code",
   "execution_count": 3,
   "metadata": {},
   "outputs": [],
   "source": [
    "import sqlite3\n",
    "import pandas as pd"
   ]
  },
  {
   "cell_type": "code",
   "execution_count": 6,
   "metadata": {},
   "outputs": [],
   "source": [
    "#View all the different tables.\n",
    "con = sqlite3.connect(\"kaggle_dataset.sqlite\")\n",
    "df = pd.read_sql_query(\"SELECT * from sqlite_master\", con)\n",
    "con.close();\n"
   ]
  },
  {
   "cell_type": "code",
   "execution_count": 10,
   "metadata": {},
   "outputs": [
    {
     "data": {
      "text/html": [
       "<div>\n",
       "<style scoped>\n",
       "    .dataframe tbody tr th:only-of-type {\n",
       "        vertical-align: middle;\n",
       "    }\n",
       "\n",
       "    .dataframe tbody tr th {\n",
       "        vertical-align: top;\n",
       "    }\n",
       "\n",
       "    .dataframe thead th {\n",
       "        text-align: right;\n",
       "    }\n",
       "</style>\n",
       "<table border=\"1\" class=\"dataframe\">\n",
       "  <thead>\n",
       "    <tr style=\"text-align: right;\">\n",
       "      <th></th>\n",
       "      <th>type</th>\n",
       "      <th>name</th>\n",
       "      <th>tbl_name</th>\n",
       "      <th>rootpage</th>\n",
       "      <th>sql</th>\n",
       "    </tr>\n",
       "  </thead>\n",
       "  <tbody>\n",
       "    <tr>\n",
       "      <th>0</th>\n",
       "      <td>table</td>\n",
       "      <td>spatial_ref_sys</td>\n",
       "      <td>spatial_ref_sys</td>\n",
       "      <td>2</td>\n",
       "      <td>CREATE TABLE spatial_ref_sys (\\nsrid INTEGER N...</td>\n",
       "    </tr>\n",
       "    <tr>\n",
       "      <th>1</th>\n",
       "      <td>index</td>\n",
       "      <td>idx_spatial_ref_sys</td>\n",
       "      <td>spatial_ref_sys</td>\n",
       "      <td>3</td>\n",
       "      <td>CREATE UNIQUE INDEX idx_spatial_ref_sys \\nON s...</td>\n",
       "    </tr>\n",
       "    <tr>\n",
       "      <th>2</th>\n",
       "      <td>table</td>\n",
       "      <td>spatialite_history</td>\n",
       "      <td>spatialite_history</td>\n",
       "      <td>4</td>\n",
       "      <td>CREATE TABLE spatialite_history (\\nevent_id IN...</td>\n",
       "    </tr>\n",
       "    <tr>\n",
       "      <th>3</th>\n",
       "      <td>table</td>\n",
       "      <td>sqlite_sequence</td>\n",
       "      <td>sqlite_sequence</td>\n",
       "      <td>5</td>\n",
       "      <td>CREATE TABLE sqlite_sequence(name,seq)</td>\n",
       "    </tr>\n",
       "    <tr>\n",
       "      <th>4</th>\n",
       "      <td>table</td>\n",
       "      <td>geometry_columns</td>\n",
       "      <td>geometry_columns</td>\n",
       "      <td>6</td>\n",
       "      <td>CREATE TABLE geometry_columns (\\nf_table_name ...</td>\n",
       "    </tr>\n",
       "  </tbody>\n",
       "</table>\n",
       "</div>"
      ],
      "text/plain": [
       "    type                 name            tbl_name  rootpage  \\\n",
       "0  table      spatial_ref_sys     spatial_ref_sys         2   \n",
       "1  index  idx_spatial_ref_sys     spatial_ref_sys         3   \n",
       "2  table   spatialite_history  spatialite_history         4   \n",
       "3  table      sqlite_sequence     sqlite_sequence         5   \n",
       "4  table     geometry_columns    geometry_columns         6   \n",
       "\n",
       "                                                 sql  \n",
       "0  CREATE TABLE spatial_ref_sys (\\nsrid INTEGER N...  \n",
       "1  CREATE UNIQUE INDEX idx_spatial_ref_sys \\nON s...  \n",
       "2  CREATE TABLE spatialite_history (\\nevent_id IN...  \n",
       "3             CREATE TABLE sqlite_sequence(name,seq)  \n",
       "4  CREATE TABLE geometry_columns (\\nf_table_name ...  "
      ]
     },
     "execution_count": 10,
     "metadata": {},
     "output_type": "execute_result"
    }
   ],
   "source": [
    "df.head()"
   ]
  },
  {
   "cell_type": "code",
   "execution_count": null,
   "metadata": {},
   "outputs": [],
   "source": []
  }
 ],
 "metadata": {
  "kernelspec": {
   "display_name": "Python 3",
   "language": "python",
   "name": "python3"
  },
  "language_info": {
   "codemirror_mode": {
    "name": "ipython",
    "version": 3
   },
   "file_extension": ".py",
   "mimetype": "text/x-python",
   "name": "python",
   "nbconvert_exporter": "python",
   "pygments_lexer": "ipython3",
   "version": "3.6.8"
  }
 },
 "nbformat": 4,
 "nbformat_minor": 2
}
